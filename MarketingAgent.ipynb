{
 "cells": [
  {
   "cell_type": "code",
   "execution_count": 3,
   "id": "initial_id",
   "metadata": {
    "ExecuteTime": {
     "end_time": "2025-06-17T11:30:47.304088Z",
     "start_time": "2025-06-17T11:30:43.650087Z"
    },
    "collapsed": true
   },
   "outputs": [],
   "source": [
    "from dotenv import load_dotenv\n",
    "from agents import Agent, Runner, trace, function_tool, handoff\n",
    "from openai.types.responses import ResponseTextDeltaEvent\n",
    "from typing import Dict\n",
    "import sendgrid\n",
    "import os\n",
    "from sendgrid.helpers.mail import Mail, Email, To, Content\n",
    "import asyncio"
   ]
  },
  {
   "cell_type": "code",
   "execution_count": 5,
   "id": "7672d225aa64f128",
   "metadata": {
    "ExecuteTime": {
     "end_time": "2025-06-17T11:31:38.660093Z",
     "start_time": "2025-06-17T11:31:38.639370Z"
    }
   },
   "outputs": [
    {
     "data": {
      "text/plain": [
       "True"
      ]
     },
     "execution_count": 5,
     "metadata": {},
     "output_type": "execute_result"
    }
   ],
   "source": [
    "load_dotenv(override=True)"
   ]
  },
  {
   "cell_type": "markdown",
   "id": "24c22df58382d626",
   "metadata": {},
   "source": [
    "## Instructions"
   ]
  },
  {
   "cell_type": "code",
   "execution_count": 6,
   "id": "b04c4b42286cf41f",
   "metadata": {
    "ExecuteTime": {
     "end_time": "2025-06-17T11:40:48.776737Z",
     "start_time": "2025-06-17T11:40:48.713847Z"
    }
   },
   "outputs": [],
   "source": [
    "# Sales-focused copywriter\n",
    "instructions1 = \"\"\"\n",
    "You are a results-driven marketing copywriter.\n",
    "Your goal is to create persuasive and compelling marketing content that drives conversions.\n",
    "You focus on benefits, urgency, strong CTAs, and value propositions.\n",
    "Your tone is professional, confident, and tailored to decision-makers.\n",
    "Avoid fluff—emphasize why this product or service solves a key pain point.\n",
    "\"\"\"\n",
    "\n",
    "# Story-driven brand voice\n",
    "instructions2 = \"\"\"\n",
    "You are a storytelling-focused brand voice specialist.\n",
    "You craft engaging narratives that build emotional connections with the audience.\n",
    "Each piece of content should tell a mini story, using relatable characters, conflicts, and outcomes to draw readers in.\n",
    "Focus on brand personality and human resonance.\n",
    "Tone should be authentic, warm, and memorable.\n",
    "\"\"\"\n",
    "\n",
    "# Funny/informal tone\n",
    "instructions3 = \"\"\"\n",
    "You are a witty and informal social media marketer.\n",
    "Your job is to create fun, cheeky, and casual content that grabs attention and entertains.\n",
    "Use humor, pop culture references, emojis (when appropriate), and playful language to make posts shareable and relatable.\n",
    "Avoid sounding too corporate—think memes, GIF-worthy lines, and light-hearted jokes, while still getting the message across.\n",
    "\"\"\""
   ]
  },
  {
   "cell_type": "markdown",
   "id": "9abfa2c974d66375",
   "metadata": {},
   "source": [
    "Marketing manager"
   ]
  },
  {
   "cell_type": "code",
   "execution_count": 49,
   "id": "34aa4d9731e6e615",
   "metadata": {
    "ExecuteTime": {
     "end_time": "2025-06-17T13:29:34.608938Z",
     "start_time": "2025-06-17T13:29:34.581212Z"
    }
   },
   "outputs": [],
   "source": [
    "instructions_marketing = \"\"\"\n",
    "You are a marketing manager. You use the tools to generate different versions of the marketing email.\n",
    "Your job is to evaluate all outputs and choose the most emotionally engaging email for our new users.\n",
    "Only pick one email — do not combine or modify outputs.\n",
    "After selecting, send the chosen email using the send_email tool.\n",
    "\"\"\""
   ]
  },
  {
   "cell_type": "code",
   "execution_count": 8,
   "id": "934db35a13daf591",
   "metadata": {
    "ExecuteTime": {
     "end_time": "2025-06-17T11:55:05.370955Z",
     "start_time": "2025-06-17T11:55:05.318317Z"
    }
   },
   "outputs": [],
   "source": [
    "content_writer_1 = Agent(\n",
    "    name = \"Sales-focused Copywriter\",\n",
    "    instructions = instructions1,\n",
    "    model = \"gpt-4o-mini\"\n",
    ")\n",
    "\n",
    "content_writer_2 = Agent(\n",
    "    name = \"Story-driven Brand Voice\",\n",
    "    instructions = instructions2,\n",
    "    model = \"gpt-4o-mini\"\n",
    ")\n",
    "\n",
    "content_writer_3 = Agent(\n",
    "    name = \"Funny/Informal Tone\",\n",
    "    instructions = instructions3,\n",
    "    model = \"gpt-4o-mini\"\n",
    ")"
   ]
  },
  {
   "cell_type": "markdown",
   "id": "4fa195df31ec8c6c",
   "metadata": {},
   "source": [
    "## Tools"
   ]
  },
  {
   "cell_type": "code",
   "execution_count": 44,
   "id": "1218958ba65167f5",
   "metadata": {
    "ExecuteTime": {
     "end_time": "2025-06-17T13:26:41.883839Z",
     "start_time": "2025-06-17T13:26:41.877291Z"
    }
   },
   "outputs": [],
   "source": [
    "# @function_tool\n",
    "# def send_email(body: str):\n",
    "#     \"\"\" Send out an email with the given body to all sales prospects \"\"\"\n",
    "#     sg = sendgrid.SendGridAPIClient(api_key=os.environ.get('SENDGRID_API_KEY'))\n",
    "#     from_email = Email(\"aungkpp.dev@gmail.com\")  # Change to your verified sender\n",
    "#     to_email = To(\"aungkpp.dev@gmail.com\")  # Change to your recipient\n",
    "#     content = Content(\"text/plain\", body)\n",
    "#     mail = Mail(from_email, to_email, \"Marketing email\", content).get()\n",
    "#     response = sg.client.mail.send.post(request_body=mail)\n",
    "#     return {\"status\": \"success\"}"
   ]
  },
  {
   "cell_type": "code",
   "execution_count": 45,
   "id": "c46dce86c37f5ffb",
   "metadata": {
    "ExecuteTime": {
     "end_time": "2025-06-17T13:26:46.429528Z",
     "start_time": "2025-06-17T13:26:46.407896Z"
    }
   },
   "outputs": [],
   "source": [
    "#send_email"
   ]
  },
  {
   "cell_type": "markdown",
   "id": "cf69597f47d67c",
   "metadata": {},
   "source": [
    "### Convert agents into tools"
   ]
  },
  {
   "cell_type": "code",
   "execution_count": 46,
   "id": "25d642f284ed04e3",
   "metadata": {
    "ExecuteTime": {
     "end_time": "2025-06-17T13:27:04.669294Z",
     "start_time": "2025-06-17T13:27:04.630846Z"
    }
   },
   "outputs": [],
   "source": [
    "description = \"Write an marketing email about MovieJoys subscription which is a movie website.\"\n",
    "\n",
    "tool1 = content_writer_1.as_tool(tool_name = \"content_agent_1\" , tool_description=description)\n",
    "tool2 = content_writer_2.as_tool(tool_name = \"content_agent_2\" , tool_description=description)\n",
    "tool3 = content_writer_3.as_tool(tool_name = \"content_agent_3\" , tool_description=description)"
   ]
  },
  {
   "cell_type": "code",
   "execution_count": 47,
   "id": "d0bd94633a15f4c3",
   "metadata": {
    "ExecuteTime": {
     "end_time": "2025-06-17T13:27:16.014999Z",
     "start_time": "2025-06-17T13:27:16.001215Z"
    }
   },
   "outputs": [],
   "source": [
    "# marketing_manager = Agent(name = \"Marketing Manager\", instructions = instructions,tools = tools, model = \"gpt-4o-mini\")\n",
    "#\n",
    "# message = \"Write a marketing email about MovieJoys subscription addressed to new users.\"\n",
    "#\n",
    "# with trace(\"Marketing Manager\"):\n",
    "#     result = await Runner.run(marketing_manager, message)"
   ]
  },
  {
   "cell_type": "markdown",
   "id": "1756c507351408a9",
   "metadata": {},
   "source": [
    "## Second Agent for Converting to HTML(Handoff)"
   ]
  },
  {
   "cell_type": "code",
   "execution_count": 38,
   "id": "d12b4522c308c107",
   "metadata": {
    "ExecuteTime": {
     "end_time": "2025-06-17T13:18:06.943256Z",
     "start_time": "2025-06-17T13:18:06.899782Z"
    }
   },
   "outputs": [],
   "source": [
    "subject_instructions = \"\"\"\n",
    "You are expert at writing the most emotionally engaging email for our new users.\n",
    "Your task is to write a subject line for a marketing email about MovieJoys subscription, which is a movie website, that is likely to get a reply. You will be given the email body. Focus on curiosity, clarity, and value to the recipient.\n",
    "Keep it short, compelling, and avoid sounding spammy.\n",
    "\"\"\"\n",
    "\n",
    "html_instructions = \"\"\"\n",
    "You are an email designer skilled in converting plain text emails into professional HTML.\n",
    "You will be given a plain text email (which may contain markdown).\n",
    "Your task is to convert it into a visually appealing HTML email with proper formatting, layout, and styling.\n",
    "\n",
    "Use:\n",
    "- Relevant emojis and images where appropriate\n",
    "- A clear header and structure\n",
    "- A call-to-action (CTA) button\n",
    "- Styling that aligns with the product being promoted\n",
    "\n",
    "Make sure the email looks polished and ready to be sent to customers.\n",
    "\"\"\""
   ]
  },
  {
   "cell_type": "code",
   "execution_count": 39,
   "id": "1d124379cbfd7e59",
   "metadata": {
    "ExecuteTime": {
     "end_time": "2025-06-17T13:21:09.417376Z",
     "start_time": "2025-06-17T13:21:09.327497Z"
    }
   },
   "outputs": [],
   "source": [
    "subject_writer = Agent(name = \"Email subject writer\", instructions = subject_instructions, model = \"gpt-4o-mini\")\n",
    "subject_tool = subject_writer.as_tool(tool_name = \"subject_writer\" , tool_description='Write a subject for a marketing email')\n",
    "\n",
    "html_converter = Agent(name = \"HTML email body converter\", instructions = html_instructions, model = \"gpt-4o-mini\")\n",
    "html_tools = html_converter.as_tool(tool_name = \"html_converter\" , tool_description='Convert a text email body to an HTML email')"
   ]
  },
  {
   "cell_type": "code",
   "execution_count": 53,
   "id": "416335fcf11ad9b8",
   "metadata": {
    "ExecuteTime": {
     "end_time": "2025-06-17T13:39:19.527804Z",
     "start_time": "2025-06-17T13:39:19.485603Z"
    }
   },
   "outputs": [],
   "source": [
    "@function_tool\n",
    "def send_HTML_email(subject: str, html_body: str) -> Dict[str, str]:\n",
    "    \"\"\" Send out an email with the given body to all sales prospects \"\"\"\n",
    "    sg = sendgrid.SendGridAPIClient(api_key=os.environ.get('SENDGRID_API_KEY'))\n",
    "    from_email = Email(\"aungkpp.dev@gmail.com\")  # Change to your verified sender\n",
    "    to_email = To(\"aungkpp.dev@gmail.com\")  # Change to your recipient\n",
    "    content = Content(\"text/html\", html_body)\n",
    "    mail = Mail(from_email, to_email, subject, content).get()\n",
    "    response = sg.client.mail.send.post(request_body=mail)\n",
    "    return {\"status\": \"success\"}"
   ]
  },
  {
   "cell_type": "code",
   "execution_count": 54,
   "id": "5732d613e5b47767",
   "metadata": {
    "ExecuteTime": {
     "end_time": "2025-06-17T13:39:20.229646Z",
     "start_time": "2025-06-17T13:39:20.224825Z"
    }
   },
   "outputs": [],
   "source": [
    "tools = [subject_tool, html_tools, send_HTML_email]"
   ]
  },
  {
   "cell_type": "code",
   "execution_count": 55,
   "id": "a4e4e7abd82acea8",
   "metadata": {
    "ExecuteTime": {
     "end_time": "2025-06-17T13:39:20.750344Z",
     "start_time": "2025-06-17T13:39:20.746552Z"
    }
   },
   "outputs": [],
   "source": [
    "instructions_email = \"You are an email formatter and sender. You receive the body of an email to be sent. \\\n",
    "You first use the subject_writer tool to write a subject for the email, then use the html_converter tool to convert the body to HTML. \\\n",
    "Finally, you use the send_html_email tool to send the email with the subject and HTML body.\"\n",
    "\n",
    "email_agent = Agent(\n",
    "    name = \"Email agent\",\n",
    "    instructions = instructions_email,\n",
    "    tools = tools,\n",
    "    model = \"gpt-4o-mini\",\n",
    "    handoff_description = \"Convert an email into HTML and send it\"\n",
    ")\n"
   ]
  },
  {
   "cell_type": "markdown",
   "id": "98cc5375ea88afa8",
   "metadata": {},
   "source": [
    "## Building Marketing manager agent"
   ]
  },
  {
   "cell_type": "code",
   "execution_count": 56,
   "id": "ba9b1b0fa8880cf7",
   "metadata": {
    "ExecuteTime": {
     "end_time": "2025-06-17T13:39:22.570314Z",
     "start_time": "2025-06-17T13:39:22.564759Z"
    }
   },
   "outputs": [
    {
     "name": "stdout",
     "output_type": "stream",
     "text": [
      "[FunctionTool(name='content_agent_1', description='Write an marketing email about MovieJoys subscription which is a movie website.', params_json_schema={'properties': {'input': {'title': 'Input', 'type': 'string'}}, 'required': ['input'], 'title': 'content_agent_1_args', 'type': 'object', 'additionalProperties': False}, on_invoke_tool=<function function_tool.<locals>._create_function_tool.<locals>._on_invoke_tool at 0x158e479c0>, strict_json_schema=True, is_enabled=True), FunctionTool(name='content_agent_2', description='Write an marketing email about MovieJoys subscription which is a movie website.', params_json_schema={'properties': {'input': {'title': 'Input', 'type': 'string'}}, 'required': ['input'], 'title': 'content_agent_2_args', 'type': 'object', 'additionalProperties': False}, on_invoke_tool=<function function_tool.<locals>._create_function_tool.<locals>._on_invoke_tool at 0x158ee91c0>, strict_json_schema=True, is_enabled=True), FunctionTool(name='content_agent_3', description='Write an marketing email about MovieJoys subscription which is a movie website.', params_json_schema={'properties': {'input': {'title': 'Input', 'type': 'string'}}, 'required': ['input'], 'title': 'content_agent_3_args', 'type': 'object', 'additionalProperties': False}, on_invoke_tool=<function function_tool.<locals>._create_function_tool.<locals>._on_invoke_tool at 0x158eea5c0>, strict_json_schema=True, is_enabled=True)]\n",
      "[Agent(name='Email agent', instructions='You are an email formatter and sender. You receive the body of an email to be sent. You first use the subject_writer tool to write a subject for the email, then use the html_converter tool to convert the body to HTML. Finally, you use the send_html_email tool to send the email with the subject and HTML body.', prompt=None, handoff_description='Convert an email into HTML and send it', handoffs=[], model='gpt-4o-mini', model_settings=ModelSettings(temperature=None, top_p=None, frequency_penalty=None, presence_penalty=None, tool_choice=None, parallel_tool_calls=None, truncation=None, max_tokens=None, reasoning=None, metadata=None, store=None, include_usage=None, extra_query=None, extra_body=None, extra_headers=None, extra_args=None), tools=[FunctionTool(name='subject_writer', description='Write a subject for a marketing email', params_json_schema={'properties': {'input': {'title': 'Input', 'type': 'string'}}, 'required': ['input'], 'title': 'subject_writer_args', 'type': 'object', 'additionalProperties': False}, on_invoke_tool=<function function_tool.<locals>._create_function_tool.<locals>._on_invoke_tool at 0x158ee9a80>, strict_json_schema=True, is_enabled=True), FunctionTool(name='html_converter', description='Convert a text email body to an HTML email', params_json_schema={'properties': {'input': {'title': 'Input', 'type': 'string'}}, 'required': ['input'], 'title': 'html_converter_args', 'type': 'object', 'additionalProperties': False}, on_invoke_tool=<function function_tool.<locals>._create_function_tool.<locals>._on_invoke_tool at 0x158ee8b80>, strict_json_schema=True, is_enabled=True), FunctionTool(name='send_HTML_email', description='Send out an email with the given body to all sales prospects', params_json_schema={'properties': {'subject': {'title': 'Subject', 'type': 'string'}, 'html_body': {'title': 'Html Body', 'type': 'string'}}, 'required': ['subject', 'html_body'], 'title': 'send_HTML_email_args', 'type': 'object', 'additionalProperties': False}, on_invoke_tool=<function function_tool.<locals>._create_function_tool.<locals>._on_invoke_tool at 0x158e454e0>, strict_json_schema=True, is_enabled=True)], mcp_servers=[], mcp_config={}, input_guardrails=[], output_guardrails=[], output_type=None, hooks=None, tool_use_behavior='run_llm_again', reset_tool_choice=True)]\n"
     ]
    }
   ],
   "source": [
    "tools = [tool1, tool2, tool3]\n",
    "handoff = [email_agent]\n",
    "\n",
    "print(tools)\n",
    "print(handoff)"
   ]
  },
  {
   "cell_type": "markdown",
   "id": "6f37bb6ec162f338",
   "metadata": {},
   "source": [
    "## Combining 2 Agent"
   ]
  },
  {
   "cell_type": "code",
   "execution_count": 57,
   "id": "8d680dba986aee04",
   "metadata": {
    "ExecuteTime": {
     "end_time": "2025-06-17T13:41:05.953913Z",
     "start_time": "2025-06-17T13:39:23.575091Z"
    }
   },
   "outputs": [],
   "source": [
    "marketing_manager = Agent(\n",
    "    name = \"Marketing Manager\",\n",
    "    instructions = instructions_marketing,\n",
    "    tools = tools,\n",
    "    handoffs = handoff,\n",
    "    model = \"gpt-4o-mini\"\n",
    ")\n",
    "\n",
    "message = \"Write a marketing email about MovieJoys subscription addressed to new users.\"\n",
    "\n",
    "with trace(\"Marketing Manager\"):\n",
    "    result = await Runner.run(marketing_manager, message)"
   ]
  },
  {
   "cell_type": "code",
   "execution_count": 51,
   "id": "1f79668ef76f762d",
   "metadata": {
    "ExecuteTime": {
     "end_time": "2025-06-17T13:35:22.046223Z",
     "start_time": "2025-06-17T13:35:22.039036Z"
    }
   },
   "outputs": [
    {
     "name": "stdout",
     "output_type": "stream",
     "text": [
      "RunResult:\n",
      "- Last agent: Agent(name=\"Email agent\", ...)\n",
      "- Final output (str):\n",
      "    The marketing email for MovieJoys has been successfully sent to new users! If you need anything else or further assistance, feel free to ask. 🎬✨\n",
      "- 19 new item(s)\n",
      "- 5 raw response(s)\n",
      "- 0 input guardrail result(s)\n",
      "- 0 output guardrail result(s)\n",
      "(See `RunResult` for more details)\n"
     ]
    }
   ],
   "source": [
    "print(result)"
   ]
  },
  {
   "cell_type": "code",
   "execution_count": null,
   "id": "aac8f243a09db332",
   "metadata": {},
   "outputs": [],
   "source": []
  }
 ],
 "metadata": {
  "kernelspec": {
   "display_name": "Python 3",
   "language": "python",
   "name": "python3"
  },
  "language_info": {
   "codemirror_mode": {
    "name": "ipython",
    "version": 2
   },
   "file_extension": ".py",
   "mimetype": "text/x-python",
   "name": "python",
   "nbconvert_exporter": "python",
   "pygments_lexer": "ipython2",
   "version": "2.7.6"
  }
 },
 "nbformat": 4,
 "nbformat_minor": 5
}
